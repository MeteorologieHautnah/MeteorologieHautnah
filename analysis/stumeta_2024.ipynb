{
 "cells": [
  {
   "metadata": {},
   "cell_type": "markdown",
   "source": [
    "# Meteorologie hautnah – Mobile Stadtklimamessungen als Citizen Science-Projekt\n",
    "*Oscar Ritter und Johannes Röttenbacher*\n",
    "\n",
    "Inhalt:\n",
    "- 2 Gruppen getrennt plotten (Zeitreihe, T und delta T zu Holzhausen, Taupunkt)\n",
    "- Unterschied nach android/Iphone\n",
    "- Karte mit Temperaturmessungen\n",
    "- Zeitreihe Holzhausen dazupacken\n",
    "- Interpolieren der Messwerte auf Gitter 10mx10m 5minuten Mittel (optional sonst komplett Mittel)\n"
   ],
   "id": "46c538e00707273c"
  },
  {
   "metadata": {},
   "cell_type": "code",
   "outputs": [],
   "execution_count": null,
   "source": [
    "# import modules\n",
    "import meteohautnah as mh\n",
    "import pandas as pd"
   ],
   "id": "31e3ebbd68ebde86"
  },
  {
   "metadata": {},
   "cell_type": "code",
   "outputs": [],
   "execution_count": null,
   "source": [
    "# set paths\n",
    "base_path = 'C:/Users/Johannes/Documents/MeteorologieHautnah/MeteorologieHautnah'\n",
    "data_path = f'{base_path}/Daten/processed'\n",
    "plot_path = f'{base_path}/Daten/plots/single_participants'"
   ],
   "id": "589c9ea1a8a5e881"
  },
  {
   "metadata": {},
   "cell_type": "code",
   "outputs": [],
   "execution_count": null,
   "source": [
    "# read in and filter data\n",
    "device_ids = pd.read_csv(f'{base_path}/Daten/device_ids.txt',\n",
    "                         skipinitialspace=True)\n",
    "device_id = device_ids['MAC-address'][device_ids[\"number\"] == meteotracker_number]\n",
    "df = mh.read_data(data_path, 'all', 10)\n",
    "df = df[df['device_id'] == device_id.iloc[0]]"
   ],
   "id": "531413d38e5bb907"
  }
 ],
 "metadata": {
  "kernelspec": {
   "display_name": "Python 3",
   "language": "python",
   "name": "python3"
  },
  "language_info": {
   "codemirror_mode": {
    "name": "ipython",
    "version": 2
   },
   "file_extension": ".py",
   "mimetype": "text/x-python",
   "name": "python",
   "nbconvert_exporter": "python",
   "pygments_lexer": "ipython2",
   "version": "2.7.6"
  }
 },
 "nbformat": 4,
 "nbformat_minor": 5
}
